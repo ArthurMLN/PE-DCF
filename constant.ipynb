{
 "cells": [
  {
   "cell_type": "code",
   "execution_count": 5,
   "id": "cb8e11a5-4073-4c00-bba8-d413876233c6",
   "metadata": {},
   "outputs": [],
   "source": [
    "# 此函数用于charls schwb 从refresh_token里面读取refresh token, 然后获取新的access token\n",
    "def get_new_tokens(refresh_token_file='refresh_token.txt'):\n",
    "    import requests\n",
    "    import base64\n",
    "    appKey = \"kbCTAwum3rMoeTtO3cl7RhWe92RKXPWG\"\n",
    "    appSecret = \"iMGQieIxGKNtlUI5\"\n",
    "    # Read the refresh token from the file\n",
    "    with open(refresh_token_file, 'r') as file:\n",
    "        refresh_token = file.read().strip()\n",
    "\n",
    "    headers = {\n",
    "        'Authorization': f'Basic {base64.b64encode(bytes(f\"{appKey}:{appSecret}\", \"utf-8\")).decode(\"utf-8\")}',\n",
    "        'Content-Type': 'application/x-www-form-urlencoded'\n",
    "    }\n",
    "    data = {'grant_type': 'refresh_token', 'refresh_token': refresh_token}\n",
    "\n",
    "    response = requests.post('https://api.schwabapi.com/v1/oauth/token', headers=headers, data=data)\n",
    "    tD = response.json()\n",
    "\n",
    "    # Extract new tokens\n",
    "    new_access_token = tD['access_token']\n",
    "    new_refresh_token = tD['refresh_token']\n",
    "\n",
    "    # Save the new refresh token to the file\n",
    "    with open(refresh_token_file, 'w') as file:\n",
    "        file.write(new_refresh_token)\n",
    "\n",
    "    return new_access_token\n",
    "\n",
    "# Example usage\n",
    "\n",
    "#new_access_token = get_new_tokens()\n",
    "#print(new_access_token)\n"
   ]
  },
  {
   "cell_type": "code",
   "execution_count": 15,
   "id": "c100c44f-3131-4292-9c7d-c44abb0e0c34",
   "metadata": {},
   "outputs": [],
   "source": [
    "def get_current_price(symbol):\n",
    "    import requests\n",
    "    access_token = get_new_tokens()\n",
    "    base_url = f'https://api.schwabapi.com/marketdata/v1/{symbol}/quotes'\n",
    "    headers = {\n",
    "        'accept': 'application/json',\n",
    "        'Authorization': f'Bearer {access_token}'\n",
    "    }  \n",
    "    \n",
    "    response = requests.get(base_url, headers=headers)\n",
    "    current_data = response.json()\n",
    "    quote = current_data[symbol]['quote']\n",
    "    result = {\n",
    "        'open': quote['openPrice'],\n",
    "        'high': quote['highPrice'],\n",
    "        'low': quote['lowPrice'],\n",
    "        'close': quote['closePrice'],\n",
    "        'volume': quote['totalVolume'],\n",
    "        'datetime': quote['quoteTime']\n",
    "    }\n",
    "    print(f\"current price {result}\")\n",
    "    return result\n",
    "\n",
    "# Example usage\n",
    "#symbol = 'SPY'\n"
   ]
  },
  {
   "cell_type": "code",
   "execution_count": null,
   "id": "68ee1697-266a-41a0-9d3d-2bae8e3d93b2",
   "metadata": {},
   "outputs": [],
   "source": []
  }
 ],
 "metadata": {
  "kernelspec": {
   "display_name": "Python 3 (ipykernel)",
   "language": "python",
   "name": "python3"
  },
  "language_info": {
   "codemirror_mode": {
    "name": "ipython",
    "version": 3
   },
   "file_extension": ".py",
   "mimetype": "text/x-python",
   "name": "python",
   "nbconvert_exporter": "python",
   "pygments_lexer": "ipython3",
   "version": "3.10.0"
  }
 },
 "nbformat": 4,
 "nbformat_minor": 5
}
